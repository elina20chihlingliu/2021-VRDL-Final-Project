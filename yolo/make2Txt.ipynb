{
 "cells": [
  {
   "cell_type": "code",
   "execution_count": 11,
   "metadata": {},
   "outputs": [],
   "source": [
    "import os\n",
    "import random\n",
    "\n",
    "\n",
    "trainval_percent = 0.9\n",
    "train_percent = 0.9\n",
    "img_filepath = 'yolov5-master/data/images'\n",
    "txtsavepath = 'yolov5-master/data/ImageSets'\n",
    "datasavepath = 'data/images/'\n",
    "total_xml = os.listdir(img_filepath)\n",
    "\n",
    "num = len(total_xml)\n",
    "list = range(num)\n",
    "tv = int(num * trainval_percent)\n",
    "tr = int(tv * train_percent)\n",
    "trainval = random.sample(list, tv)\n",
    "train = random.sample(trainval, tr)\n",
    "\n",
    "#ImageSets\n",
    "ftrainval = open(os.path.join(txtsavepath,'trainval.txt'), 'w')\n",
    "ftest = open(os.path.join(txtsavepath,'test.txt'), 'w')\n",
    "ftrain = open(os.path.join(txtsavepath,'train.txt'), 'w')\n",
    "fval = open(os.path.join(txtsavepath,'val.txt'), 'w')\n",
    "\n",
    "#data\n",
    "dtest = open(os.path.join('yolov5-master/data','test.txt'), 'w')\n",
    "dtrain = open(os.path.join('yolov5-master/data','train.txt'), 'w')\n",
    "dval = open(os.path.join('yolov5-master/data','val.txt'), 'w')\n",
    "\n",
    "\n",
    "for i in list:\n",
    "    name = total_xml[i][:-4] + '\\n'\n",
    "    if i in trainval:\n",
    "        ftrainval.write(name)\n",
    "        if i in train:\n",
    "            ftrain.write(name)\n",
    "            dtrain.write(datasavepath + total_xml[i] + '\\n')\n",
    "        else:\n",
    "            fval.write(name)\n",
    "            dval.write(datasavepath +  total_xml[i] + '\\n')\n",
    "    else:\n",
    "        ftest.write(name)\n",
    "        dtest.write(datasavepath +  total_xml[i] + '\\n')\n",
    "\n",
    "ftrainval.close()\n",
    "ftrain.close()\n",
    "fval.close()\n",
    "ftest.close()\n",
    "\n",
    "dtrain.close()\n",
    "dval.close()\n",
    "dtest.close()"
   ]
  }
 ],
 "metadata": {
  "interpreter": {
   "hash": "7eb225835dbf5e36ed3971516cdaf85bb99b9880593357f25fadd163dfe383cf"
  },
  "kernelspec": {
   "display_name": "Python 3.8.12 64-bit ('tensorflow': conda)",
   "language": "python",
   "name": "python3"
  },
  "language_info": {
   "codemirror_mode": {
    "name": "ipython",
    "version": 3
   },
   "file_extension": ".py",
   "mimetype": "text/x-python",
   "name": "python",
   "nbconvert_exporter": "python",
   "pygments_lexer": "ipython3",
   "version": "3.7.12"
  },
  "orig_nbformat": 4
 },
 "nbformat": 4,
 "nbformat_minor": 2
}
