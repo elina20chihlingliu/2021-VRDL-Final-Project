{
 "cells": [
  {
   "cell_type": "code",
   "execution_count": 1,
   "metadata": {},
   "outputs": [],
   "source": [
    "import os\n",
    "import cv2\n",
    "import csv\n",
    "from tqdm import tqdm\n",
    "import argparse\n",
    "import pandas as pd"
   ]
  },
  {
   "cell_type": "code",
   "execution_count": 31,
   "metadata": {},
   "outputs": [
    {
     "name": "stdout",
     "output_type": "stream",
     "text": [
      "Loading data from  yolov5-master/runs/detect/exp15/labels\n"
     ]
    },
    {
     "name": "stderr",
     "output_type": "stream",
     "text": [
      "100%|██████████| 1000/1000 [00:15<00:00, 64.54it/s]\n"
     ]
    }
   ],
   "source": [
    "test1_root_path = 'yolov5-master/runs/detect/exp19/labels'\n",
    "test2_root_path = 'yolov5-master/runs/detect/exp20/labels'\n",
    "\n",
    "#test1\n",
    "print(\"Loading data from \",test1_root_path)\n",
    "\n",
    "img_path = 'yolov5-master/data/test/test_stg1'\n",
    "assert os.path.exists(test1_root_path)\n",
    "originLabelsDir = os.path.join(test1_root_path)                                        \n",
    "originImagesDir = os.path.join(img_path)\n",
    "\n",
    "# label dir name\n",
    "indexes = os.listdir(originImagesDir)\n",
    "\n",
    "# write a row to the csv file\n",
    "ptable = pd.DataFrame(columns=['image', 'ALB', 'BET', 'DOL', 'LAG', 'NoF', 'OTHER', 'SHARK','YFT'])\n",
    "\n",
    "# 标注的id\n",
    "for k, index in enumerate(tqdm(indexes)):\n",
    "    ptable.loc[k, 'image'] = index\n",
    "    ptable.loc[k, 'NoF'] = 0.123081 # guess the answer to Nof\n",
    "    ptable.loc[k, 'OTHER'] = 0.079142 # guess the answer to OTHER\n",
    "    result = [0,0,0,0,0,0,0,0]\n",
    "\n",
    "    # 支持 png jpg 格式的图片。\n",
    "    txtFile = index.replace('images','txt').replace('.jpg','.txt').replace('.png','.txt')\n",
    "    index = index.split(\".\")[0]\n",
    "    # 读取图像的宽和高\n",
    "    im = cv2.imread(os.path.join(img_path, (index +'.jpg')))\n",
    "    height, width, _ = im.shape\n",
    "\n",
    "    if not os.path.exists(os.path.join(originLabelsDir, txtFile)):\n",
    "        # 如没标签 \n",
    "        ptable.loc[k, 'ALB'] = result[0]\n",
    "        ptable.loc[k, 'BET'] = result[1]\n",
    "        ptable.loc[k, 'DOL'] = result[2]\n",
    "        ptable.loc[k, 'LAG'] = result[3]\n",
    "        ptable.loc[k, 'SHARK'] = result[4]\n",
    "        ptable.loc[k, 'YFT'] = result[5]\n",
    "        continue\n",
    "\n",
    "    with open(os.path.join(originLabelsDir, (index +'.txt')), 'r') as fr:\n",
    "        labelList = fr.readlines()\n",
    "        for label in labelList:\n",
    "            dataset = {}\n",
    "            label = label.strip().split()\n",
    "            cls_id = int(label[0])\n",
    "            score = float(label[5])\n",
    "\n",
    "            if result[cls_id] < score:\n",
    "                result[cls_id] = score\n",
    "\n",
    "        ptable.loc[k, 'ALB'] = result[0]\n",
    "        ptable.loc[k, 'BET'] = result[1]\n",
    "        ptable.loc[k, 'DOL'] = result[2]\n",
    "        ptable.loc[k, 'LAG'] = result[3]\n",
    "        ptable.loc[k, 'SHARK'] = result[4]\n",
    "        ptable.loc[k, 'YFT'] = result[5]"
   ]
  },
  {
   "cell_type": "code",
   "execution_count": 32,
   "metadata": {},
   "outputs": [
    {
     "name": "stdout",
     "output_type": "stream",
     "text": [
      "Loading data from  yolov5-master/runs/detect/exp16/labels\n"
     ]
    },
    {
     "name": "stderr",
     "output_type": "stream",
     "text": [
      "100%|██████████| 12153/12153 [02:28<00:00, 81.90it/s]\n"
     ]
    }
   ],
   "source": [
    "#test2\n",
    "print(\"Loading data from \",test2_root_path)\n",
    "\n",
    "img_path = 'yolov5-master/data/test/test_stg2'\n",
    "assert os.path.exists(test2_root_path)\n",
    "originLabelsDir = os.path.join(test2_root_path)                                        \n",
    "originImagesDir = os.path.join(img_path)\n",
    "\n",
    "# label dir name\n",
    "indexes = os.listdir(originImagesDir)\n",
    "indexes = os.listdir(originImagesDir)\n",
    "\n",
    "# 标注的id\n",
    "for k, index in enumerate(tqdm(indexes),start = 1000):\n",
    "    ptable.loc[k, 'image'] = \"test_stg2/\" + index\n",
    "    ptable.loc[k, 'NoF'] = 0.123081 # guess the answer to Nof\n",
    "    ptable.loc[k, 'OTHER'] = 0.079142 # guess the answer to OTHER\n",
    "    result = [0,0,0,0,0,0,0,0]\n",
    "\n",
    "    # 支持 png jpg 格式的图片。\n",
    "    txtFile = index.replace('images','txt').replace('.jpg','.txt').replace('.png','.txt')\n",
    "    index = index.split(\".\")[0]\n",
    "    # 读取图像的宽和高\n",
    "    im = cv2.imread(os.path.join(img_path, (index +'.jpg')))\n",
    "    height, width, _ = im.shape\n",
    "\n",
    "    if not os.path.exists(os.path.join(originLabelsDir, txtFile)):\n",
    "        # 如没标签 \n",
    "        ptable.loc[k, 'ALB'] = result[0]\n",
    "        ptable.loc[k, 'BET'] = result[1]\n",
    "        ptable.loc[k, 'DOL'] = result[2]\n",
    "        ptable.loc[k, 'LAG'] = result[3]\n",
    "        ptable.loc[k, 'SHARK'] = result[4]\n",
    "        ptable.loc[k, 'YFT'] = result[5]\n",
    "        continue\n",
    "\n",
    "    with open(os.path.join(originLabelsDir, (index +'.txt')), 'r') as fr:\n",
    "        labelList = fr.readlines()\n",
    "        for label in labelList:\n",
    "            dataset = {}\n",
    "            label = label.strip().split()\n",
    "            cls_id = int(label[0])\n",
    "            score = float(label[5])\n",
    "\n",
    "            if result[cls_id] < score:\n",
    "                result[cls_id] = score\n",
    "                \n",
    "        ptable.loc[k, 'ALB'] = result[0]\n",
    "        ptable.loc[k, 'BET'] = result[1]\n",
    "        ptable.loc[k, 'DOL'] = result[2]\n",
    "        ptable.loc[k, 'LAG'] = result[3]\n",
    "        ptable.loc[k, 'SHARK'] = result[4]\n",
    "        ptable.loc[k, 'YFT'] = result[5]"
   ]
  },
  {
   "cell_type": "code",
   "execution_count": 33,
   "metadata": {},
   "outputs": [
    {
     "name": "stdout",
     "output_type": "stream",
     "text": [
      "Save annotation to yolov5-master/runs/detect/final_submission/submission.csv\n"
     ]
    }
   ],
   "source": [
    "# 保存结果\n",
    "save_path = 'yolov5-master/runs/detect/final_submission/submission.csv'\n",
    "ptable.to_csv(save_path, index=False)\n",
    "print('Save annotation to {}'.format(save_path))"
   ]
  },
  {
   "cell_type": "code",
   "execution_count": 50,
   "metadata": {},
   "outputs": [
    {
     "name": "stdout",
     "output_type": "stream",
     "text": [
      "           image       ALB       BET       DOL       LAG       NoF     OTHER  \\\n",
      "0  img_00005.jpg  0.049614  0.049614  0.049614  0.049614  0.427458  0.274858   \n",
      "1  img_00007.jpg  0.012278  0.012278  0.012278  0.012278  0.105786  0.068021   \n",
      "2  img_00009.jpg  0.728929  0.011570  0.011570  0.061005  0.099686  0.064099   \n",
      "3  img_00018.jpg  0.766837  0.012172  0.012172  0.012172  0.104870  0.067432   \n",
      "4  img_00027.jpg  0.741415  0.012402  0.012402  0.012402  0.106850  0.068705   \n",
      "5  img_00030.jpg  0.049614  0.049614  0.049614  0.049614  0.427458  0.274858   \n",
      "6  img_00040.jpg  0.376654  0.016495  0.016495  0.016495  0.142114  0.091380   \n",
      "7  img_00046.jpg  0.049614  0.049614  0.049614  0.049614  0.427458  0.274858   \n",
      "8  img_00053.jpg  0.744971  0.013314  0.013314  0.013314  0.114705  0.073756   \n",
      "9  img_00071.jpg  0.018431  0.012095  0.012095  0.761979  0.104206  0.067005   \n",
      "\n",
      "      SHARK       YFT  \n",
      "0  0.049614  0.049614  \n",
      "1  0.012278  0.764800  \n",
      "2  0.011570  0.011570  \n",
      "3  0.012172  0.012172  \n",
      "4  0.012402  0.033422  \n",
      "5  0.049614  0.049614  \n",
      "6  0.162895  0.177472  \n",
      "7  0.049614  0.049614  \n",
      "8  0.013314  0.013314  \n",
      "9  0.012095  0.012095  \n"
     ]
    }
   ],
   "source": [
    "import pandas as pd\n",
    "import os\n",
    "\n",
    "clip = 0.90\n",
    "classes = 8\n",
    "save_path = 'yolov5-master/runs/detect/final_submission/submission.csv'\n",
    "\n",
    "def clip_csv(csv_file, clip, classes):\n",
    "\n",
    "    df_image = pd.read_csv(csv_file , usecols=[\"image\"])\n",
    "\n",
    "    # Read the submission file\n",
    "    df = pd.read_csv(csv_file , usecols=['ALB', 'BET', 'DOL', 'LAG', 'NoF', 'OTHER', 'SHARK','YFT'])\n",
    "    # Clip the values\n",
    "    df = df.clip(lower=(1.0 - clip)/float(classes - 1), upper=clip)\n",
    "    \n",
    "    # Normalize the values to 1\n",
    "    df = df.div(df.sum(axis=1), axis=0)\n",
    "\n",
    "    #merge two dataframe\n",
    "    df_final = df_image.merge(df , how = 'inner' , left_index= True, right_index = True)\n",
    "\n",
    "    return df_final\n",
    "    \n",
    "# Of course you are going to use your own submission here\n",
    "new_submission = clip_csv(save_path, clip, classes)\n"
   ]
  },
  {
   "cell_type": "code",
   "execution_count": 51,
   "metadata": {},
   "outputs": [
    {
     "name": "stdout",
     "output_type": "stream",
     "text": [
      "Save annotation to yolov5-master/runs/detect/final_submission/new_submission.csv\n"
     ]
    }
   ],
   "source": [
    "save_path = 'yolov5-master/runs/detect/final_submission/new_submission.csv'\n",
    "new_submission.to_csv(save_path, index=False)\n",
    "print('Save annotation to {}'.format(save_path))"
   ]
  }
 ],
 "metadata": {
  "interpreter": {
   "hash": "f288b39bbb089d1e320090e367b98f1068b03ad75494a35806e66bc7207a91ef"
  },
  "kernelspec": {
   "display_name": "Python 3.7.12 64-bit ('myenv': conda)",
   "language": "python",
   "name": "python3"
  },
  "language_info": {
   "codemirror_mode": {
    "name": "ipython",
    "version": 3
   },
   "file_extension": ".py",
   "mimetype": "text/x-python",
   "name": "python",
   "nbconvert_exporter": "python",
   "pygments_lexer": "ipython3",
   "version": "3.7.12"
  },
  "orig_nbformat": 4
 },
 "nbformat": 4,
 "nbformat_minor": 2
}
